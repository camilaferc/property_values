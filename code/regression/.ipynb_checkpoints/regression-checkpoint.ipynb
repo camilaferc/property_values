{
 "cells": [
  {
   "cell_type": "code",
   "execution_count": null,
   "metadata": {
    "collapsed": false
   },
   "outputs": [],
   "source": [
    "print(__doc__)\n",
    "\n",
    "# Author: Rodolfo Wottrich\n",
    "# for CMPUT 551\n",
    "# Code source based on Jaques Grobler's\n",
    "# License: BSD 3 clause\n",
    "\n",
    "\n",
    "import matplotlib.pyplot as plt\n",
    "import numpy as np\n",
    "import pandas as pd\n",
    "from sklearn import datasets, linear_model\n",
    "\n",
    "# Load realestate dataset\n",
    "\n",
    "realestate = pd.read_csv('realestate_final.csv')\n",
    "\n",
    "# Define training and test sets\n",
    "realestate['is_train'] = np.random.uniform(0, 1, len(realestate)) <= 0.75\n",
    "trainX = realestate[realestate['is_train']==True]\n",
    "testX = realestate[realestate['is_train']==False]\n",
    "\n",
    "trainY = trainX.ix[:,110:111]\n",
    "testY = testX.ix[:,110:111]\n",
    "trainX = trainX.ix[:,0:109]\n",
    "testX = testX.ix[:,0:109]\n",
    "#print trainX.shape\n",
    "#print testX.shape\n",
    "#print trainY.shape\n",
    "#print testY.shape\n",
    "\n",
    "# Create linear regression object\n",
    "regr = linear_model.LinearRegression()\n",
    "\n",
    "# Train the model using the training sets\n",
    "regr.fit(trainX, trainY)\n",
    "\n",
    "# The coefficients\n",
    "print('Coefficients: \\n', regr.coef_)\n",
    "# The mean square error\n",
    "print(\"Residual sum of squares: %.2f\"\n",
    "      % np.mean((regr.predict(testX) - testY) ** 2))\n",
    "# Explained variance score: 1 is perfect prediction\n",
    "print('Variance score: %.2f' % regr.score(testX, testY))\n",
    "\n",
    "print regr.predict(testX)\n",
    "print testY\n",
    "\n",
    "# Plot outputs\n",
    "#plt.scatter(testY, testY,  color='black')\n",
    "#plt.plot(testY, regr.predict(testY), color='blue',\n",
    "#         linewidth=3)\n",
    "\n",
    "#plt.xticks(())\n",
    "#plt.yticks(())\n",
    "\n",
    "#plt.show()\n"
   ]
  },
  {
   "cell_type": "code",
   "execution_count": null,
   "metadata": {
    "collapsed": true
   },
   "outputs": [],
   "source": []
  }
 ],
 "metadata": {
  "kernelspec": {
   "display_name": "Python 2",
   "language": "python",
   "name": "python2"
  },
  "language_info": {
   "codemirror_mode": {
    "name": "ipython",
    "version": 2
   },
   "file_extension": ".py",
   "mimetype": "text/x-python",
   "name": "python",
   "nbconvert_exporter": "python",
   "pygments_lexer": "ipython2",
   "version": "2.7.10"
  }
 },
 "nbformat": 4,
 "nbformat_minor": 0
}
