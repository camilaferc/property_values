{
 "cells": [
  {
   "cell_type": "code",
   "execution_count": 1,
   "metadata": {
    "collapsed": false
   },
   "outputs": [
    {
     "name": "stdout",
     "output_type": "stream",
     "text": [
      "Automatically created module for IPython interactive environment\n",
      "('Residual sum of squares: ', Price    1.484722e+08\n",
      "dtype: float64)\n"
     ]
    }
   ],
   "source": [
    "print(__doc__)\n",
    "\n",
    "# Author: Camila Costa\n",
    "# for CMPUT 551\n",
    "# Code source based on Alexandre Gramfort's and Fabian Pedregosa's\n",
    "# License: BSD 3 clause (C) INRIA\n",
    "\n",
    "import pandas as pd\n",
    "import numpy as np\n",
    "import matplotlib.pyplot as plt\n",
    "from sklearn import neighbors\n",
    "\n",
    "# Load realestate dataset\n",
    "\n",
    "realestate = pd.read_csv('realestate_final.csv')\n",
    "\n",
    "# Define training and test sets\n",
    "realestate['is_train'] = np.random.uniform(0, 1, len(realestate)) <= 0.75\n",
    "trainX = realestate[realestate['is_train']==True]\n",
    "testX = realestate[realestate['is_train']==False]\n",
    "\n",
    "trainY = trainX.ix[:,110:111]\n",
    "testY = testX.ix[:,110:111]\n",
    "trainX = trainX.ix[:,0:109]\n",
    "testX = testX.ix[:,0:109]\n",
    "\n",
    "\n",
    "# Find the knn from the examples in the test set\n",
    "n_neighbors = 5\n",
    "knn = neighbors.KNeighborsRegressor(n_neighbors, weights='distance')\n",
    "y_ = knn.fit(trainX, trainY).predict(testX)\n",
    "\n",
    "print(\"Residual sum of squares: \", np.mean( y_ - testY) ** 2)\n",
    "\n",
    "#for j in range(len(y_)):\n",
    "#        print 'Predicted:', y_[j][0], ' / Real:', testY.ix[j][0]\n",
    "    \n",
    "    \n",
    "#plt.subplot(2, 1, i + 1)\n",
    "#plt.scatter(trainX, trainY, c='k', label='data')\n",
    "#plt.plot(testX, y_, c='g', label='prediction')\n",
    "#plt.axis('tight')\n",
    "#plt.legend()\n",
    "#plt.title(\"KNeighborsRegressor (k = %i, weights = '%s')\" % (n_neighbors, 'distance'))\n",
    "#plt.show()\n",
    "    \n",
    "    \n",
    "\n",
    "    \n"
   ]
  },
  {
   "cell_type": "code",
   "execution_count": null,
   "metadata": {
    "collapsed": true
   },
   "outputs": [],
   "source": []
  },
  {
   "cell_type": "code",
   "execution_count": null,
   "metadata": {
    "collapsed": true
   },
   "outputs": [],
   "source": []
  },
  {
   "cell_type": "code",
   "execution_count": null,
   "metadata": {
    "collapsed": true
   },
   "outputs": [],
   "source": []
  },
  {
   "cell_type": "code",
   "execution_count": null,
   "metadata": {
    "collapsed": true
   },
   "outputs": [],
   "source": []
  },
  {
   "cell_type": "code",
   "execution_count": null,
   "metadata": {
    "collapsed": true
   },
   "outputs": [],
   "source": []
  },
  {
   "cell_type": "code",
   "execution_count": null,
   "metadata": {
    "collapsed": true
   },
   "outputs": [],
   "source": []
  },
  {
   "cell_type": "code",
   "execution_count": null,
   "metadata": {
    "collapsed": true
   },
   "outputs": [],
   "source": []
  }
 ],
 "metadata": {
  "kernelspec": {
   "display_name": "Python 2",
   "language": "python",
   "name": "python2"
  },
  "language_info": {
   "codemirror_mode": {
    "name": "ipython",
    "version": 2
   },
   "file_extension": ".py",
   "mimetype": "text/x-python",
   "name": "python",
   "nbconvert_exporter": "python",
   "pygments_lexer": "ipython2",
   "version": "2.7.10"
  }
 },
 "nbformat": 4,
 "nbformat_minor": 0
}
