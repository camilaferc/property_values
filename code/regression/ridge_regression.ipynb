{
 "cells": [
  {
   "cell_type": "code",
   "execution_count": 6,
   "metadata": {
    "collapsed": false
   },
   "outputs": [
    {
     "name": "stdout",
     "output_type": "stream",
     "text": [
      "Automatically created module for IPython interactive environment\n",
      "Average error, non-normalized data:  0.171884950234\n",
      "Best alpha is  700\n"
     ]
    }
   ],
   "source": [
    "print(__doc__)\n",
    "import matplotlib.pyplot as plt\n",
    "import numpy as np\n",
    "import pandas as pd\n",
    "from sklearn import datasets, linear_model, cross_validation, metrics\n",
    "from sklearn.cross_validation import KFold\n",
    "from sklearn import preprocessing\n",
    "\n",
    "# Load realestate dataset\n",
    "\n",
    "realestate = pd.read_csv('realestate_final.csv')\n",
    "min_err = 100000;\n",
    "X = realestate.ix[:,0:109]\n",
    "y = realestate.ix[:,110:111]\n",
    "# Create linear regression object\n",
    "for value in range(100, 1000, 100):\n",
    "    regr = linear_model.Ridge (alpha = value)\n",
    "\n",
    "    kf = KFold(len(X), n_folds=5)\n",
    "    error = list()\n",
    "    for train, test in kf:\n",
    "        X_train = X.ix[train]\n",
    "        X_test = X.ix[test]\n",
    "        y_train = y.ix[train]\n",
    "        y_test = y.ix[test]\n",
    "\n",
    "        # Train the model using the training sets\n",
    "        y_ = regr.fit(X_train, y_train).predict(X_test)\n",
    "        y_ = y_.reshape(y_.size,1)\n",
    "        error.append(np.mean( np.abs(y_ - y_test)/ y_test))\n",
    "    if np.mean(error) < min_err:\n",
    "        min_err = np.mean(error);\n",
    "        best_alpha = value\n",
    "print 'Average error, non-normalized data: ', min_err\n",
    "print 'Best alpha is ', best_alpha"
   ]
  },
  {
   "cell_type": "code",
   "execution_count": null,
   "metadata": {
    "collapsed": true
   },
   "outputs": [],
   "source": []
  },
  {
   "cell_type": "code",
   "execution_count": null,
   "metadata": {
    "collapsed": true
   },
   "outputs": [],
   "source": []
  }
 ],
 "metadata": {
  "kernelspec": {
   "display_name": "Python 2",
   "language": "python",
   "name": "python2"
  },
  "language_info": {
   "codemirror_mode": {
    "name": "ipython",
    "version": 2
   },
   "file_extension": ".py",
   "mimetype": "text/x-python",
   "name": "python",
   "nbconvert_exporter": "python",
   "pygments_lexer": "ipython2",
   "version": "2.7.10"
  }
 },
 "nbformat": 4,
 "nbformat_minor": 0
}
