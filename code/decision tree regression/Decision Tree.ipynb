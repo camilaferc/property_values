{
 "cells": [
  {
   "cell_type": "code",
   "execution_count": 13,
   "metadata": {
    "collapsed": false
   },
   "outputs": [
    {
     "name": "stdout",
     "output_type": "stream",
     "text": [
      "[ 638866.66666667  445994.65        327281.97435897 ...,  190372.36363636\n",
      "  201443.          155009.96      ]\n",
      "depth =  12\n",
      "mean absolute error is 70579.1838832\n",
      "accuracy is 0.656294005955\n",
      "depth =  12\n",
      "mean absolute error is 68006.9835687\n",
      "accuracy is 0.742488262342\n"
     ]
    }
   ],
   "source": [
    "\n",
    "import pandas as pd\n",
    "import numpy as np\n",
    "import matplotlib.pyplot as plt\n",
    "# Load realestate dataset\n",
    "from sklearn.tree import DecisionTreeRegressor\n",
    "from sklearn.metrics import log_loss\n",
    "from sklearn.metrics import mean_absolute_error\n",
    "from sklearn.metrics import r2_score\n",
    "\n",
    "from sklearn import preprocessing\n",
    "from sklearn.preprocessing import Imputer\n",
    "\n",
    "realestate = pd.read_csv('realestate_final.csv')\n",
    "\n",
    "\n",
    "# Define training and test sets\n",
    "\n",
    "realestate['is_train'] = np.random.uniform(0, 1, len(realestate)) <= 0.75\n",
    "trainX = realestate[realestate['is_train']==True]\n",
    "testX = realestate[realestate['is_train']==False]\n",
    "\n",
    "# imp = Imputer(missing_values='NaN', strategy='median', axis=1) \n",
    "# imp.fit(trainX)\n",
    "# trainX = imp.fit_transform(trainX)\n",
    "# # normalize the data attributes\n",
    "# normalized_X = preprocessing.normalize(trainX)\n",
    "# # standardize the data attributes\n",
    "# standardized_X = preprocessing.scale(trainX)\n",
    "\n",
    "trainY = trainX.ix[:,110:111]\n",
    "testY = testX.ix[:,110:111]\n",
    "trainX = trainX.ix[:,0:102]\n",
    "testX = testX.ix[:,0:102]\n",
    "\n",
    "\n",
    "testY = testY.as_matrix()\n",
    "testY = np.transpose(testY)\n",
    "sizeY = testY.size\n",
    "\n",
    "\n",
    "depth1 = 12\n",
    "depth2 = 12\n",
    "# Fit regression model\n",
    "regr_1 = DecisionTreeRegressor(max_depth=depth1)\n",
    "regr_2 = DecisionTreeRegressor(max_depth=depth2)\n",
    "\n",
    "regr_1.fit(trainX, trainY)\n",
    "regr_2.fit(trainX, trainY)\n",
    "\n",
    "y_1 = regr_1.predict(testX)\n",
    "y_2 = regr_2.predict(testX)\n",
    "\n",
    "y1 = []\n",
    "y2=[]\n",
    "testy1 = []\n",
    "for j in testY[0]:\n",
    "    testy1.append(j)\n",
    "\n",
    "for i in y_1:\n",
    "    y1.append(i)\n",
    "for k in y_2:\n",
    "    y2.append(k)\n",
    "\n",
    "#print (y1)\n",
    "#y1 = np.transpose(y_1)\n",
    "#print (y1[0])\n",
    "#print (type(y_1))\n",
    "#loss = llfun(testY,y_1)\n",
    "print (y_1)\n",
    "\n",
    "print 'depth = ',depth1\n",
    "error = mean_absolute_error(testY[0],y_1)#print (testY)\n",
    "print 'mean absolute error is',error\n",
    "score = r2_score(testy1, y1)  \n",
    "print 'accuracy is',score\n",
    "\n",
    "print 'depth = ',depth2\n",
    "error = mean_absolute_error(testY[0],y_2)#print (testY)\n",
    "print 'mean absolute error is',error\n",
    "score = r2_score(testy1, y2)  \n",
    "print 'accuracy is',score"
   ]
  },
  {
   "cell_type": "code",
   "execution_count": 14,
   "metadata": {
    "collapsed": false
   },
   "outputs": [],
   "source": [
    "\n",
    "\n",
    "\n",
    "\n",
    "# kf = KFold(len(X), n_folds=7)\n",
    "# error1 = list()\n",
    "# scoreList1 = list()\n",
    "# error2 = list()\n",
    "# scoreList2 = list()\n",
    "\n",
    "# depth1 = 5\n",
    "# depth2 = 12\n",
    "\n",
    "# for train, test in kf:\n",
    "#     #print(\"%s %s\" % (train, test))\n",
    "#     X_train = X.ix[train]\n",
    "#     X_test = X.ix[test]\n",
    "#     y_train = y.ix[train]\n",
    "#     y_test = y.ix[test]\n",
    "    \n",
    "\n",
    "#     # Fit regression model\n",
    "#     regr_1 = DecisionTreeRegressor(max_depth=depth1)\n",
    "#     regr_2 = DecisionTreeRegressor(max_depth=depth2)\n",
    "    \n",
    "#     regr_1.fit(X_train, y_train)\n",
    "#     regr_2.fit(X_train, y_train)\n",
    "\n",
    "#     y_1 = regr_1.predict(X_test)\n",
    "#     y_2 = regr_2.predict(X_test)\n",
    "    \n",
    "    \n",
    "#     y1 = np.reshape(y_1,(y_1.size,1))\n",
    "#     y2 = np.reshape(y_2,(y_2.size,1))\n",
    "#     #print y_test.shape\n",
    "\n",
    "    \n",
    "#     #print (y_1)\n",
    "#     #print (y_test)\n",
    "#     error1.append(np.mean(np.abs(y1 - y_test)/ y_test))\n",
    "#     scoreList1.append(r2_score(y_test, y1))\n",
    "#     error2.append(np.mean(np.abs(y2 - y_test)/ y_test))\n",
    "#     scoreList2.append(r2_score(y_test, y2))\n",
    "    \n",
    "# print 'when depth is ', depth1  \n",
    "# print 'Average error: ', np.mean( error1)\n",
    "# print 'Average score of R^2 :', np.mean(scoreList1)\n",
    "\n",
    "# print 'when depth is ', depth2  \n",
    "# print 'Average error: ', np.mean( error2)\n",
    "# print 'Average score of R^2 :', np.mean(scoreList2)"
   ]
  },
  {
   "cell_type": "code",
   "execution_count": 12,
   "metadata": {
    "collapsed": false
   },
   "outputs": [],
   "source": [
    "from sklearn.cross_validation import KFold\n",
    "\n",
    "def precise(X,y):\n",
    "    kf = KFold(len(X), n_folds=7)\n",
    "    error1 = list()\n",
    "    scoreList1 = list()\n",
    "    error2 = list()\n",
    "    scoreList2 = list()\n",
    "\n",
    "    depth1 = 5\n",
    "    depth2 = 12\n",
    "\n",
    "    for train, test in kf:\n",
    "        #print(\"%s %s\" % (train, test))\n",
    "        X_train = X.ix[train]\n",
    "        X_test = X.ix[test]\n",
    "        y_train = y.ix[train]\n",
    "        y_test = y.ix[test]\n",
    "\n",
    "\n",
    "        # Fit regression model\n",
    "        #regr_1 = DecisionTreeRegressor(max_depth=depth1)\n",
    "        regr_2 = DecisionTreeRegressor(max_depth=depth2)\n",
    "\n",
    "        #regr_1.fit(X_train, y_train)\n",
    "        regr_2.fit(X_train, y_train)\n",
    "\n",
    "        #y_1 = regr_1.predict(X_test)\n",
    "        y_2 = regr_2.predict(X_test)\n",
    "\n",
    "\n",
    "        #y1 = np.reshape(y_1,(y_1.size,1))\n",
    "        y2 = np.reshape(y_2,(y_2.size,1))\n",
    "\n",
    "\n",
    "\n",
    "        #error1.append(np.mean(np.abs(y1 - y_test)/ y_test))\n",
    "        #scoreList1.append(r2_score(y_test, y1))\n",
    "        error2.append(np.mean(np.abs(y2 - y_test)/ y_test))\n",
    "        scoreList2.append(r2_score(y_test, y2))\n",
    "\n",
    "#     print 'when depth is ', depth1  \n",
    "#     print 'Average error: ', np.mean( error1)\n",
    "#     print 'Average score of R^2 :', np.mean(scoreList1)\n",
    "\n",
    "    #print 'when depth is ', depth2  \n",
    "    #print 'Average error: ', np.mean( error2)\n",
    "    #print 'Average score of R^2 :', np.mean(scoreList2)\n",
    "    return np.mean( error2)\n",
    "    "
   ]
  },
  {
   "cell_type": "code",
   "execution_count": 3,
   "metadata": {
    "collapsed": false
   },
   "outputs": [
    {
     "ename": "NameError",
     "evalue": "name 'pd' is not defined",
     "output_type": "error",
     "traceback": [
      "\u001b[0;31m---------------------------------------------------------------------------\u001b[0m",
      "\u001b[0;31mNameError\u001b[0m                                 Traceback (most recent call last)",
      "\u001b[0;32m<ipython-input-3-83e8f65ab7a2>\u001b[0m in \u001b[0;36m<module>\u001b[0;34m()\u001b[0m\n\u001b[0;32m----> 1\u001b[0;31m \u001b[0mrealestate\u001b[0m \u001b[0;34m=\u001b[0m \u001b[0mpd\u001b[0m\u001b[0;34m.\u001b[0m\u001b[0mread_csv\u001b[0m\u001b[0;34m(\u001b[0m\u001b[0;34m'realestate_final.csv'\u001b[0m\u001b[0;34m)\u001b[0m\u001b[0;34m\u001b[0m\u001b[0m\n\u001b[0m\u001b[1;32m      2\u001b[0m \u001b[0mX\u001b[0m \u001b[0;34m=\u001b[0m \u001b[0mrealestate\u001b[0m\u001b[0;34m.\u001b[0m\u001b[0mix\u001b[0m\u001b[0;34m[\u001b[0m\u001b[0;34m:\u001b[0m\u001b[0;34m,\u001b[0m\u001b[0;36m0\u001b[0m\u001b[0;34m:\u001b[0m\u001b[0;36m110\u001b[0m\u001b[0;34m]\u001b[0m\u001b[0;34m\u001b[0m\u001b[0m\n\u001b[1;32m      3\u001b[0m \u001b[0my\u001b[0m \u001b[0;34m=\u001b[0m \u001b[0mrealestate\u001b[0m\u001b[0;34m.\u001b[0m\u001b[0mix\u001b[0m\u001b[0;34m[\u001b[0m\u001b[0;34m:\u001b[0m\u001b[0;34m,\u001b[0m\u001b[0;36m110\u001b[0m\u001b[0;34m:\u001b[0m\u001b[0;36m111\u001b[0m\u001b[0;34m]\u001b[0m\u001b[0;34m\u001b[0m\u001b[0m\n\u001b[1;32m      4\u001b[0m \u001b[0;31m#print (X)\u001b[0m\u001b[0;34m\u001b[0m\u001b[0;34m\u001b[0m\u001b[0m\n\u001b[1;32m      5\u001b[0m \u001b[0mvalue_min\u001b[0m \u001b[0;34m=\u001b[0m \u001b[0;36m1\u001b[0m\u001b[0;34m\u001b[0m\u001b[0m\n",
      "\u001b[0;31mNameError\u001b[0m: name 'pd' is not defined"
     ]
    }
   ],
   "source": [
    "realestate = pd.read_csv('realestate_final.csv')\n",
    "X = realestate.ix[:,0:110]\n",
    "y = realestate.ix[:,110:111]\n",
    "#print (X)\n",
    "value_min = 1\n",
    "Index_min = 0\n",
    "for i in range(1,102):\n",
    "    temp1 = realestate.ix[:,0:i]\n",
    "    temp2 = realestate.ix[:,i+1:102]\n",
    "    #X = pd.merge(temp1, temp2)\n",
    "    X = temp1.join(temp2, how='inner')\n",
    "    #print (X)\n",
    "    #print (temp2)\n",
    "    #print (X)\n",
    "    #print (temp2)\n",
    "    result = precise(X,y)\n",
    "    print (result)\n",
    "    if value_min>result:\n",
    "        value_min = result\n",
    "        Index_min = i\n",
    "        \n",
    "print 'should delete ',Index_min ,'err is',value_min"
   ]
  },
  {
   "cell_type": "markdown",
   "metadata": {
    "collapsed": true
   },
   "source": [
    "# should delete  1 err is 0.137191950146\n",
    "# should delete  14 err is 0.156425517582\n",
    "# should delete  23 err is 0.155797968797\n",
    "# should delete  39 err is 0.156019521995\n",
    "# should delete  45 err is 0.155582645177\n",
    "# should delete  55 err is 0.155467285227\n",
    "# should delete  64 err is 0.156649104814\n",
    "# should delete  77 err is 0.155992222036\n",
    "# should delete  89 err is 0.154969365993\n",
    "# should delete  96 err is 0.155415727518"
   ]
  },
  {
   "cell_type": "code",
   "execution_count": 56,
   "metadata": {
    "collapsed": false
   },
   "outputs": [
    {
     "name": "stdout",
     "output_type": "stream",
     "text": [
      "when depth is  12\n",
      "Average error:  0.13680753128\n",
      "Average score of R^2 : 0.612676475852\n",
      "0.13680753128\n"
     ]
    }
   ],
   "source": [
    "temp1 = realestate.ix[:,0:1]\n",
    "temp2 = realestate.ix[:,2:89]\n",
    "temp3 = realestate.ix[:,90:102]\n",
    "temp = temp1.join(temp2, how='inner')\n",
    "X = temp.join(temp3, how='inner')\n",
    "result = precise(X,y)\n",
    "print (result)\n",
    "#print temp1.join(temp2, how='inner')"
   ]
  },
  {
   "cell_type": "code",
   "execution_count": 60,
   "metadata": {
    "collapsed": false
   },
   "outputs": [
    {
     "name": "stdout",
     "output_type": "stream",
     "text": [
      "when depth is  12\n",
      "Average error:  0.15949529544\n",
      "Average score of R^2 : 0.436959438382\n"
     ]
    }
   ],
   "source": [
    "realestate = pd.read_csv('realestate_final.csv')\n",
    "X = realestate.ix[:,0:102]\n",
    "y = realestate.ix[:,110:111]\n",
    "result = precise(X,y)\n"
   ]
  },
  {
   "cell_type": "raw",
   "metadata": {
    "collapsed": true
   },
   "source": [
    "After delete the 1,89 features, The error from 0.15949529544 to 0.13680753128."
   ]
  }
 ],
 "metadata": {
  "kernelspec": {
   "display_name": "Python 2",
   "language": "python",
   "name": "python2"
  },
  "language_info": {
   "codemirror_mode": {
    "name": "ipython",
    "version": 2
   },
   "file_extension": ".py",
   "mimetype": "text/x-python",
   "name": "python",
   "nbconvert_exporter": "python",
   "pygments_lexer": "ipython2",
   "version": "2.7.10"
  }
 },
 "nbformat": 4,
 "nbformat_minor": 0
}
