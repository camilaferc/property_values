{
 "cells": [
  {
   "cell_type": "code",
   "execution_count": 1,
   "metadata": {
    "collapsed": false
   },
   "outputs": [
    {
     "name": "stderr",
     "output_type": "stream",
     "text": [
      "C:\\Anaconda3\\lib\\site-packages\\sklearn\\utils\\fixes.py:64: DeprecationWarning: inspect.getargspec() is deprecated, use inspect.signature() instead\n",
      "  if 'order' in inspect.getargspec(np.copy)[0]:\n"
     ]
    }
   ],
   "source": [
    "# Import needed packages\n",
    "import numpy as np\n",
    "import time\n",
    "from numpy import genfromtxt\n",
    "from sklearn import cross_validation\n",
    "from sklearn.grid_search import GridSearchCV\n",
    "from sklearn.learning_curve import learning_curve\n",
    "from sklearn.svm import SVR\n",
    "from sklearn import preprocessing\n",
    "from sklearn.preprocessing import Imputer\n",
    "from sklearn import metrics\n",
    "import matplotlib.pyplot as plt\n",
    "%matplotlib inline"
   ]
  },
  {
   "cell_type": "code",
   "execution_count": 2,
   "metadata": {
    "collapsed": false
   },
   "outputs": [
    {
     "name": "stdout",
     "output_type": "stream",
     "text": [
      "Number of data: 4844 \n",
      "Number of variables: 111\n"
     ]
    }
   ],
   "source": [
    "dataset = genfromtxt('realestate_final.csv', delimiter=',')\n",
    "dataset = dataset[1:,:]\n",
    "\n",
    "ndata=dataset.shape[0]\n",
    "nvar=dataset.shape[1]\n",
    "print('Number of data: %d \\nNumber of variables: %d' % (ndata,nvar) )\n",
    "\n",
    "X = dataset[:,0:109]\n",
    "y = dataset[:,110]"
   ]
  },
  {
   "cell_type": "code",
   "execution_count": 3,
   "metadata": {
    "collapsed": false
   },
   "outputs": [],
   "source": [
    "#\n",
    "# normalize the data attributes\n",
    "#\n",
    "nrm_X = preprocessing.normalize(X,axis=1)\n",
    "\n",
    "#\n",
    "# standardize the data attributes\n",
    "#\n",
    "stn_X = preprocessing.scale(nrm_X,axis=1)\n",
    "\n",
    "#\n",
    "# define parameters for cross-validation\n",
    "#\n",
    "nfold=5\n",
    "test_frac=0.33\n",
    "seed=1331\n",
    "\n",
    "minsigma=-2\n",
    "maxsigma=2\n",
    "nsigma=5\n",
    "\n",
    "mincost=1.0\n",
    "maxcost=1e2\n",
    "ncost=5\n",
    "\n",
    "cvsigma=np.logspace(minsigma, maxsigma, nsigma)\n",
    "cvcost=np.linspace(mincost,maxcost,ncost)"
   ]
  },
  {
   "cell_type": "code",
   "execution_count": 4,
   "metadata": {
    "collapsed": false
   },
   "outputs": [
    {
     "name": "stdout",
     "output_type": "stream",
     "text": [
      " Working on: Fold=    0.0000, Sigma=    0.0100, Cost=    1.0000\n",
      " Working on: Fold=    0.0000, Sigma=    0.0100, Cost=   25.7500\n",
      " Working on: Fold=    0.0000, Sigma=    0.0100, Cost=   50.5000\n",
      " Working on: Fold=    0.0000, Sigma=    0.0100, Cost=   75.2500\n",
      " Working on: Fold=    0.0000, Sigma=    0.0100, Cost=  100.0000\n",
      " Working on: Fold=    0.0000, Sigma=    0.1000, Cost=    1.0000\n",
      " Working on: Fold=    0.0000, Sigma=    0.1000, Cost=   25.7500\n",
      " Working on: Fold=    0.0000, Sigma=    0.1000, Cost=   50.5000\n",
      " Working on: Fold=    0.0000, Sigma=    0.1000, Cost=   75.2500\n",
      " Working on: Fold=    0.0000, Sigma=    0.1000, Cost=  100.0000\n",
      " Working on: Fold=    0.0000, Sigma=    1.0000, Cost=    1.0000\n",
      " Working on: Fold=    0.0000, Sigma=    1.0000, Cost=   25.7500\n",
      " Working on: Fold=    0.0000, Sigma=    1.0000, Cost=   50.5000\n",
      " Working on: Fold=    0.0000, Sigma=    1.0000, Cost=   75.2500\n",
      " Working on: Fold=    0.0000, Sigma=    1.0000, Cost=  100.0000\n",
      " Working on: Fold=    0.0000, Sigma=   10.0000, Cost=    1.0000\n",
      " Working on: Fold=    0.0000, Sigma=   10.0000, Cost=   25.7500\n",
      " Working on: Fold=    0.0000, Sigma=   10.0000, Cost=   50.5000\n",
      " Working on: Fold=    0.0000, Sigma=   10.0000, Cost=   75.2500\n",
      " Working on: Fold=    0.0000, Sigma=   10.0000, Cost=  100.0000\n",
      " Working on: Fold=    0.0000, Sigma=  100.0000, Cost=    1.0000\n",
      " Working on: Fold=    0.0000, Sigma=  100.0000, Cost=   25.7500\n",
      " Working on: Fold=    0.0000, Sigma=  100.0000, Cost=   50.5000\n",
      " Working on: Fold=    0.0000, Sigma=  100.0000, Cost=   75.2500\n",
      " Working on: Fold=    0.0000, Sigma=  100.0000, Cost=  100.0000\n",
      " Working on: Fold=    1.0000, Sigma=    0.0100, Cost=    1.0000\n",
      " Working on: Fold=    1.0000, Sigma=    0.0100, Cost=   25.7500\n",
      " Working on: Fold=    1.0000, Sigma=    0.0100, Cost=   50.5000\n",
      " Working on: Fold=    1.0000, Sigma=    0.0100, Cost=   75.2500\n",
      " Working on: Fold=    1.0000, Sigma=    0.0100, Cost=  100.0000\n",
      " Working on: Fold=    1.0000, Sigma=    0.1000, Cost=    1.0000\n",
      " Working on: Fold=    1.0000, Sigma=    0.1000, Cost=   25.7500\n",
      " Working on: Fold=    1.0000, Sigma=    0.1000, Cost=   50.5000\n",
      " Working on: Fold=    1.0000, Sigma=    0.1000, Cost=   75.2500\n",
      " Working on: Fold=    1.0000, Sigma=    0.1000, Cost=  100.0000\n",
      " Working on: Fold=    1.0000, Sigma=    1.0000, Cost=    1.0000\n",
      " Working on: Fold=    1.0000, Sigma=    1.0000, Cost=   25.7500\n",
      " Working on: Fold=    1.0000, Sigma=    1.0000, Cost=   50.5000\n",
      " Working on: Fold=    1.0000, Sigma=    1.0000, Cost=   75.2500\n",
      " Working on: Fold=    1.0000, Sigma=    1.0000, Cost=  100.0000\n",
      " Working on: Fold=    1.0000, Sigma=   10.0000, Cost=    1.0000\n",
      " Working on: Fold=    1.0000, Sigma=   10.0000, Cost=   25.7500\n",
      " Working on: Fold=    1.0000, Sigma=   10.0000, Cost=   50.5000\n",
      " Working on: Fold=    1.0000, Sigma=   10.0000, Cost=   75.2500\n",
      " Working on: Fold=    1.0000, Sigma=   10.0000, Cost=  100.0000\n",
      " Working on: Fold=    1.0000, Sigma=  100.0000, Cost=    1.0000\n",
      " Working on: Fold=    1.0000, Sigma=  100.0000, Cost=   25.7500\n",
      " Working on: Fold=    1.0000, Sigma=  100.0000, Cost=   50.5000\n",
      " Working on: Fold=    1.0000, Sigma=  100.0000, Cost=   75.2500\n",
      " Working on: Fold=    1.0000, Sigma=  100.0000, Cost=  100.0000\n",
      " Working on: Fold=    2.0000, Sigma=    0.0100, Cost=    1.0000\n",
      " Working on: Fold=    2.0000, Sigma=    0.0100, Cost=   25.7500\n",
      " Working on: Fold=    2.0000, Sigma=    0.0100, Cost=   50.5000\n",
      " Working on: Fold=    2.0000, Sigma=    0.0100, Cost=   75.2500\n",
      " Working on: Fold=    2.0000, Sigma=    0.0100, Cost=  100.0000\n",
      " Working on: Fold=    2.0000, Sigma=    0.1000, Cost=    1.0000\n",
      " Working on: Fold=    2.0000, Sigma=    0.1000, Cost=   25.7500\n",
      " Working on: Fold=    2.0000, Sigma=    0.1000, Cost=   50.5000\n",
      " Working on: Fold=    2.0000, Sigma=    0.1000, Cost=   75.2500\n",
      " Working on: Fold=    2.0000, Sigma=    0.1000, Cost=  100.0000\n",
      " Working on: Fold=    2.0000, Sigma=    1.0000, Cost=    1.0000\n",
      " Working on: Fold=    2.0000, Sigma=    1.0000, Cost=   25.7500\n",
      " Working on: Fold=    2.0000, Sigma=    1.0000, Cost=   50.5000\n",
      " Working on: Fold=    2.0000, Sigma=    1.0000, Cost=   75.2500\n",
      " Working on: Fold=    2.0000, Sigma=    1.0000, Cost=  100.0000\n",
      " Working on: Fold=    2.0000, Sigma=   10.0000, Cost=    1.0000\n",
      " Working on: Fold=    2.0000, Sigma=   10.0000, Cost=   25.7500\n",
      " Working on: Fold=    2.0000, Sigma=   10.0000, Cost=   50.5000\n",
      " Working on: Fold=    2.0000, Sigma=   10.0000, Cost=   75.2500\n",
      " Working on: Fold=    2.0000, Sigma=   10.0000, Cost=  100.0000\n",
      " Working on: Fold=    2.0000, Sigma=  100.0000, Cost=    1.0000\n",
      " Working on: Fold=    2.0000, Sigma=  100.0000, Cost=   25.7500\n",
      " Working on: Fold=    2.0000, Sigma=  100.0000, Cost=   50.5000\n",
      " Working on: Fold=    2.0000, Sigma=  100.0000, Cost=   75.2500\n",
      " Working on: Fold=    2.0000, Sigma=  100.0000, Cost=  100.0000\n",
      " Working on: Fold=    3.0000, Sigma=    0.0100, Cost=    1.0000\n",
      " Working on: Fold=    3.0000, Sigma=    0.0100, Cost=   25.7500\n",
      " Working on: Fold=    3.0000, Sigma=    0.0100, Cost=   50.5000\n",
      " Working on: Fold=    3.0000, Sigma=    0.0100, Cost=   75.2500\n",
      " Working on: Fold=    3.0000, Sigma=    0.0100, Cost=  100.0000\n",
      " Working on: Fold=    3.0000, Sigma=    0.1000, Cost=    1.0000\n",
      " Working on: Fold=    3.0000, Sigma=    0.1000, Cost=   25.7500\n",
      " Working on: Fold=    3.0000, Sigma=    0.1000, Cost=   50.5000\n",
      " Working on: Fold=    3.0000, Sigma=    0.1000, Cost=   75.2500\n",
      " Working on: Fold=    3.0000, Sigma=    0.1000, Cost=  100.0000\n",
      " Working on: Fold=    3.0000, Sigma=    1.0000, Cost=    1.0000\n",
      " Working on: Fold=    3.0000, Sigma=    1.0000, Cost=   25.7500\n",
      " Working on: Fold=    3.0000, Sigma=    1.0000, Cost=   50.5000\n",
      " Working on: Fold=    3.0000, Sigma=    1.0000, Cost=   75.2500\n",
      " Working on: Fold=    3.0000, Sigma=    1.0000, Cost=  100.0000\n",
      " Working on: Fold=    3.0000, Sigma=   10.0000, Cost=    1.0000\n",
      " Working on: Fold=    3.0000, Sigma=   10.0000, Cost=   25.7500\n",
      " Working on: Fold=    3.0000, Sigma=   10.0000, Cost=   50.5000\n",
      " Working on: Fold=    3.0000, Sigma=   10.0000, Cost=   75.2500\n",
      " Working on: Fold=    3.0000, Sigma=   10.0000, Cost=  100.0000\n",
      " Working on: Fold=    3.0000, Sigma=  100.0000, Cost=    1.0000\n",
      " Working on: Fold=    3.0000, Sigma=  100.0000, Cost=   25.7500\n",
      " Working on: Fold=    3.0000, Sigma=  100.0000, Cost=   50.5000\n",
      " Working on: Fold=    3.0000, Sigma=  100.0000, Cost=   75.2500\n",
      " Working on: Fold=    3.0000, Sigma=  100.0000, Cost=  100.0000\n",
      " Working on: Fold=    4.0000, Sigma=    0.0100, Cost=    1.0000\n",
      " Working on: Fold=    4.0000, Sigma=    0.0100, Cost=   25.7500\n",
      " Working on: Fold=    4.0000, Sigma=    0.0100, Cost=   50.5000\n",
      " Working on: Fold=    4.0000, Sigma=    0.0100, Cost=   75.2500\n",
      " Working on: Fold=    4.0000, Sigma=    0.0100, Cost=  100.0000\n",
      " Working on: Fold=    4.0000, Sigma=    0.1000, Cost=    1.0000\n",
      " Working on: Fold=    4.0000, Sigma=    0.1000, Cost=   25.7500\n",
      " Working on: Fold=    4.0000, Sigma=    0.1000, Cost=   50.5000\n",
      " Working on: Fold=    4.0000, Sigma=    0.1000, Cost=   75.2500\n",
      " Working on: Fold=    4.0000, Sigma=    0.1000, Cost=  100.0000\n",
      " Working on: Fold=    4.0000, Sigma=    1.0000, Cost=    1.0000\n",
      " Working on: Fold=    4.0000, Sigma=    1.0000, Cost=   25.7500\n",
      " Working on: Fold=    4.0000, Sigma=    1.0000, Cost=   50.5000\n",
      " Working on: Fold=    4.0000, Sigma=    1.0000, Cost=   75.2500\n",
      " Working on: Fold=    4.0000, Sigma=    1.0000, Cost=  100.0000\n",
      " Working on: Fold=    4.0000, Sigma=   10.0000, Cost=    1.0000\n",
      " Working on: Fold=    4.0000, Sigma=   10.0000, Cost=   25.7500\n",
      " Working on: Fold=    4.0000, Sigma=   10.0000, Cost=   50.5000\n",
      " Working on: Fold=    4.0000, Sigma=   10.0000, Cost=   75.2500\n",
      " Working on: Fold=    4.0000, Sigma=   10.0000, Cost=  100.0000\n",
      " Working on: Fold=    4.0000, Sigma=  100.0000, Cost=    1.0000\n",
      " Working on: Fold=    4.0000, Sigma=  100.0000, Cost=   25.7500\n",
      " Working on: Fold=    4.0000, Sigma=  100.0000, Cost=   50.5000\n",
      " Working on: Fold=    4.0000, Sigma=  100.0000, Cost=   75.2500\n",
      " Working on: Fold=    4.0000, Sigma=  100.0000, Cost=  100.0000\n"
     ]
    }
   ],
   "source": [
    "cvaccuracy=np.zeros((nsigma,ncost,nfold))\n",
    "for i in range(nfold):\n",
    "    for j in range(nsigma):\n",
    "        for k in range(ncost):\n",
    "            print (\" Working on: Fold=%10.4f, Sigma=%10.4f, Cost=%10.4f\" % (i,cvsigma[j],cvcost[k]) )\n",
    "            X_train, X_test, y_train, y_test = cross_validation.train_test_split( stn_X, y, test_size=test_frac, random_state=i+77 )\n",
    "            svr_rbf=SVR(kernel='rbf', C=cvcost[k], gamma=cvsigma[j])\n",
    "            y_pred=svr_rbf.fit(X_train, y_train).predict(X_test)\n",
    "            cvaccuracy[i,j,k] = np.mean( ((y_test - y_pred)/y_test) ** 2 )\n",
    "\n",
    "        "
   ]
  },
  {
   "cell_type": "code",
   "execution_count": 122,
   "metadata": {
    "collapsed": true
   },
   "outputs": [],
   "source": [
    "meanacc=np.mean(cvaccuracy,axis=1)"
   ]
  },
  {
   "cell_type": "code",
   "execution_count": 127,
   "metadata": {
    "collapsed": false
   },
   "outputs": [],
   "source": [
    "idxsigma, idxcost = np.unravel_index(meanacc.argmin(), meanacc.shape)"
   ]
  },
  {
   "cell_type": "code",
   "execution_count": 133,
   "metadata": {
    "collapsed": false
   },
   "outputs": [
    {
     "name": "stdout",
     "output_type": "stream",
     "text": [
      "Best parameters: \n",
      "  Sigma =     0.1000\n",
      "  Cost =   100.0000\n",
      "  Relative Accuracy =     0.3472\n"
     ]
    }
   ],
   "source": [
    "print(\"Best parameters: \\n  Sigma = %10.4f\\n  Cost = %10.4f\\n  Relative Accuracy = %10.4f\" % (cvsigma[idxsigma],cvcost[idxcost],meanacc[idxsigma,idxcost]))"
   ]
  },
  {
   "cell_type": "code",
   "execution_count": 4,
   "metadata": {
    "collapsed": false
   },
   "outputs": [
    {
     "ename": "NameError",
     "evalue": "name 'meanacc' is not defined",
     "output_type": "error",
     "traceback": [
      "\u001b[1;31m---------------------------------------------------------------------------\u001b[0m",
      "\u001b[1;31mNameError\u001b[0m                                 Traceback (most recent call last)",
      "\u001b[1;32m<ipython-input-4-e2f08990dd89>\u001b[0m in \u001b[0;36m<module>\u001b[1;34m()\u001b[0m\n\u001b[0;32m      1\u001b[0m \u001b[0mfig\u001b[0m\u001b[1;33m,\u001b[0m \u001b[0max\u001b[0m \u001b[1;33m=\u001b[0m \u001b[0mplt\u001b[0m\u001b[1;33m.\u001b[0m\u001b[0msubplots\u001b[0m\u001b[1;33m(\u001b[0m\u001b[1;36m1\u001b[0m\u001b[1;33m)\u001b[0m\u001b[1;33m\u001b[0m\u001b[0m\n\u001b[1;32m----> 2\u001b[1;33m \u001b[0max\u001b[0m\u001b[1;33m.\u001b[0m\u001b[0mimshow\u001b[0m\u001b[1;33m(\u001b[0m\u001b[0mmeanacc\u001b[0m\u001b[1;33m,\u001b[0m\u001b[0minterpolation\u001b[0m\u001b[1;33m=\u001b[0m\u001b[1;34m'nearest'\u001b[0m\u001b[1;33m)\u001b[0m\u001b[1;33m\u001b[0m\u001b[0m\n\u001b[0m\u001b[0;32m      3\u001b[0m \u001b[1;32mfor\u001b[0m \u001b[0mi\u001b[0m \u001b[1;32min\u001b[0m \u001b[0mrange\u001b[0m\u001b[1;33m(\u001b[0m\u001b[0mnsigma\u001b[0m\u001b[1;33m)\u001b[0m\u001b[1;33m:\u001b[0m\u001b[1;33m\u001b[0m\u001b[0m\n\u001b[0;32m      4\u001b[0m     \u001b[1;32mfor\u001b[0m \u001b[0mj\u001b[0m \u001b[1;32min\u001b[0m \u001b[0mrange\u001b[0m\u001b[1;33m(\u001b[0m\u001b[0mncost\u001b[0m\u001b[1;33m)\u001b[0m\u001b[1;33m:\u001b[0m\u001b[1;33m\u001b[0m\u001b[0m\n\u001b[0;32m      5\u001b[0m         \u001b[0max\u001b[0m\u001b[1;33m.\u001b[0m\u001b[0mtext\u001b[0m\u001b[1;33m(\u001b[0m\u001b[0mi\u001b[0m\u001b[1;33m,\u001b[0m\u001b[0mj\u001b[0m\u001b[1;33m,\u001b[0m\u001b[0mstr\u001b[0m\u001b[1;33m(\u001b[0m\u001b[0mmeanacc\u001b[0m\u001b[1;33m[\u001b[0m\u001b[0mi\u001b[0m\u001b[1;33m,\u001b[0m\u001b[0mj\u001b[0m\u001b[1;33m]\u001b[0m\u001b[1;33m)\u001b[0m\u001b[1;33m,\u001b[0m \u001b[0mva\u001b[0m\u001b[1;33m=\u001b[0m\u001b[1;34m'center'\u001b[0m\u001b[1;33m,\u001b[0m \u001b[0mha\u001b[0m\u001b[1;33m=\u001b[0m\u001b[1;34m'center'\u001b[0m\u001b[1;33m)\u001b[0m\u001b[1;33m\u001b[0m\u001b[0m\n",
      "\u001b[1;31mNameError\u001b[0m: name 'meanacc' is not defined"
     ]
    },
    {
     "data": {
      "image/png": "[encoded data removed]",
      "text/plain": [
       "<matplotlib.figure.Figure at 0x24755a3fd0>"
      ]
     },
     "metadata": {},
     "output_type": "display_data"
    }
   ],
   "source": [
    "fig, ax = plt.subplots(1)\n",
    "ax.imshow(meanacc,interpolation='nearest')\n",
    "for i in range(nsigma):\n",
    "    for j in range(ncost):\n",
    "        ax.text(i,j,str(meanacc[i,j]), va='center', ha='center')\n",
    "fig.show()"
   ]
  },
  {
   "cell_type": "code",
   "execution_count": 5,
   "metadata": {
    "collapsed": false
   },
   "outputs": [
    {
     "ename": "NameError",
     "evalue": "name 'cvaccuracy' is not defined",
     "output_type": "error",
     "traceback": [
      "\u001b[1;31m---------------------------------------------------------------------------\u001b[0m",
      "\u001b[1;31mNameError\u001b[0m                                 Traceback (most recent call last)",
      "\u001b[1;32m<ipython-input-5-65b8c4a622b7>\u001b[0m in \u001b[0;36m<module>\u001b[1;34m()\u001b[0m\n\u001b[1;32m----> 1\u001b[1;33m \u001b[0mprint\u001b[0m\u001b[1;33m(\u001b[0m\u001b[0mcvaccuracy\u001b[0m\u001b[1;33m)\u001b[0m\u001b[1;33m\u001b[0m\u001b[0m\n\u001b[0m",
      "\u001b[1;31mNameError\u001b[0m: name 'cvaccuracy' is not defined"
     ]
    }
   ],
   "source": [
    "print(cvaccuracy)"
   ]
  },
  {
   "cell_type": "code",
   "execution_count": null,
   "metadata": {
    "collapsed": true
   },
   "outputs": [],
   "source": []
  }
 ],
 "metadata": {
  "kernelspec": {
   "display_name": "Python 3",
   "language": "python",
   "name": "python3"
  },
  "language_info": {
   "codemirror_mode": {
    "name": "ipython",
    "version": 3
   },
   "file_extension": ".py",
   "mimetype": "text/x-python",
   "name": "python",
   "nbconvert_exporter": "python",
   "pygments_lexer": "ipython3",
   "version": "3.5.0"
  }
 },
 "nbformat": 4,
 "nbformat_minor": 0
}
