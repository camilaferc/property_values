{
 "cells": [
  {
   "cell_type": "code",
   "execution_count": 24,
   "metadata": {
    "collapsed": false
   },
   "outputs": [],
   "source": [
    "#\n",
    "# Import needed packages\n",
    "#\n",
    "import numpy as np\n",
    "import time\n",
    "from numpy import genfromtxt\n",
    "from sklearn import cross_validation\n",
    "from sklearn.grid_search import GridSearchCV\n",
    "from sklearn.learning_curve import learning_curve\n",
    "from sklearn.svm import SVR\n",
    "from sklearn import preprocessing\n",
    "from sklearn.preprocessing import Imputer\n",
    "from sklearn import metrics\n",
    "import matplotlib.pyplot as plt\n",
    "import matplotlib\n",
    "%matplotlib inline"
   ]
  },
  {
   "cell_type": "code",
   "execution_count": 2,
   "metadata": {
    "collapsed": false
   },
   "outputs": [
    {
     "name": "stdout",
     "output_type": "stream",
     "text": [
      "Number of data: 4844 \n",
      "Number of variables: 111\n"
     ]
    }
   ],
   "source": [
    "#\n",
    "# Read data\n",
    "#\n",
    "dataset = genfromtxt('realestate_final.csv', delimiter=',')\n",
    "dataset = dataset[1:,:]\n",
    "\n",
    "ndata=dataset.shape[0]\n",
    "nvar=dataset.shape[1]\n",
    "print('Number of data: %d \\nNumber of variables: %d' % (ndata,nvar) )\n",
    "\n",
    "X = dataset[:,0:nvar-2]\n",
    "y = dataset[:,nvar-1]\n",
    "nvar = nvar - 1"
   ]
  },
  {
   "cell_type": "code",
   "execution_count": 3,
   "metadata": {
    "collapsed": false
   },
   "outputs": [],
   "source": [
    "#\n",
    "# normalize the data attributes\n",
    "#\n",
    "nrm_X = preprocessing.normalize(X,axis=1)\n",
    "\n",
    "#\n",
    "# standardize the data attributes\n",
    "#\n",
    "stn_X = preprocessing.scale(nrm_X,axis=1)\n",
    "\n",
    "#\n",
    "# define parameters for cross-validation\n",
    "#\n",
    "nfold=5\n",
    "test_frac=0.33\n",
    "seed=1331\n",
    "\n",
    "minsigma=-5\n",
    "maxsigma=1\n",
    "nsigma=5\n",
    "\n",
    "mincost=1e2\n",
    "maxcost=1e5\n",
    "ncost=5\n",
    "\n",
    "cvsigma=np.logspace(minsigma, maxsigma, nsigma)\n",
    "cvcost=np.linspace(mincost,maxcost,ncost)"
   ]
  },
  {
   "cell_type": "code",
   "execution_count": 4,
   "metadata": {
    "collapsed": false
   },
   "outputs": [
    {
     "name": "stdout",
     "output_type": "stream",
     "text": [
      " Working on: Fold=    0.0000, Sigma=    0.0000, Cost=  100.0000\n",
      " Working on: Fold=    0.0000, Sigma=    0.0000, Cost=25075.0000\n",
      " Working on: Fold=    0.0000, Sigma=    0.0000, Cost=50050.0000\n",
      " Working on: Fold=    0.0000, Sigma=    0.0000, Cost=75025.0000\n",
      " Working on: Fold=    0.0000, Sigma=    0.0000, Cost=100000.0000\n",
      " Working on: Fold=    0.0000, Sigma=    0.0003, Cost=  100.0000\n",
      " Working on: Fold=    0.0000, Sigma=    0.0003, Cost=25075.0000\n",
      " Working on: Fold=    0.0000, Sigma=    0.0003, Cost=50050.0000\n",
      " Working on: Fold=    0.0000, Sigma=    0.0003, Cost=75025.0000\n",
      " Working on: Fold=    0.0000, Sigma=    0.0003, Cost=100000.0000\n",
      " Working on: Fold=    0.0000, Sigma=    0.0100, Cost=  100.0000\n",
      " Working on: Fold=    0.0000, Sigma=    0.0100, Cost=25075.0000\n",
      " Working on: Fold=    0.0000, Sigma=    0.0100, Cost=50050.0000\n",
      " Working on: Fold=    0.0000, Sigma=    0.0100, Cost=75025.0000\n",
      " Working on: Fold=    0.0000, Sigma=    0.0100, Cost=100000.0000\n",
      " Working on: Fold=    0.0000, Sigma=    0.3162, Cost=  100.0000\n",
      " Working on: Fold=    0.0000, Sigma=    0.3162, Cost=25075.0000\n",
      " Working on: Fold=    0.0000, Sigma=    0.3162, Cost=50050.0000\n",
      " Working on: Fold=    0.0000, Sigma=    0.3162, Cost=75025.0000\n",
      " Working on: Fold=    0.0000, Sigma=    0.3162, Cost=100000.0000\n",
      " Working on: Fold=    0.0000, Sigma=   10.0000, Cost=  100.0000\n",
      " Working on: Fold=    0.0000, Sigma=   10.0000, Cost=25075.0000\n",
      " Working on: Fold=    0.0000, Sigma=   10.0000, Cost=50050.0000\n",
      " Working on: Fold=    0.0000, Sigma=   10.0000, Cost=75025.0000\n",
      " Working on: Fold=    0.0000, Sigma=   10.0000, Cost=100000.0000\n",
      " Working on: Fold=    1.0000, Sigma=    0.0000, Cost=  100.0000\n",
      " Working on: Fold=    1.0000, Sigma=    0.0000, Cost=25075.0000\n",
      " Working on: Fold=    1.0000, Sigma=    0.0000, Cost=50050.0000\n",
      " Working on: Fold=    1.0000, Sigma=    0.0000, Cost=75025.0000\n",
      " Working on: Fold=    1.0000, Sigma=    0.0000, Cost=100000.0000\n",
      " Working on: Fold=    1.0000, Sigma=    0.0003, Cost=  100.0000\n",
      " Working on: Fold=    1.0000, Sigma=    0.0003, Cost=25075.0000\n",
      " Working on: Fold=    1.0000, Sigma=    0.0003, Cost=50050.0000\n",
      " Working on: Fold=    1.0000, Sigma=    0.0003, Cost=75025.0000\n",
      " Working on: Fold=    1.0000, Sigma=    0.0003, Cost=100000.0000\n",
      " Working on: Fold=    1.0000, Sigma=    0.0100, Cost=  100.0000\n",
      " Working on: Fold=    1.0000, Sigma=    0.0100, Cost=25075.0000\n",
      " Working on: Fold=    1.0000, Sigma=    0.0100, Cost=50050.0000\n",
      " Working on: Fold=    1.0000, Sigma=    0.0100, Cost=75025.0000\n",
      " Working on: Fold=    1.0000, Sigma=    0.0100, Cost=100000.0000\n",
      " Working on: Fold=    1.0000, Sigma=    0.3162, Cost=  100.0000\n",
      " Working on: Fold=    1.0000, Sigma=    0.3162, Cost=25075.0000\n",
      " Working on: Fold=    1.0000, Sigma=    0.3162, Cost=50050.0000\n",
      " Working on: Fold=    1.0000, Sigma=    0.3162, Cost=75025.0000\n",
      " Working on: Fold=    1.0000, Sigma=    0.3162, Cost=100000.0000\n",
      " Working on: Fold=    1.0000, Sigma=   10.0000, Cost=  100.0000\n",
      " Working on: Fold=    1.0000, Sigma=   10.0000, Cost=25075.0000\n",
      " Working on: Fold=    1.0000, Sigma=   10.0000, Cost=50050.0000\n",
      " Working on: Fold=    1.0000, Sigma=   10.0000, Cost=75025.0000\n",
      " Working on: Fold=    1.0000, Sigma=   10.0000, Cost=100000.0000\n",
      " Working on: Fold=    2.0000, Sigma=    0.0000, Cost=  100.0000\n",
      " Working on: Fold=    2.0000, Sigma=    0.0000, Cost=25075.0000\n",
      " Working on: Fold=    2.0000, Sigma=    0.0000, Cost=50050.0000\n",
      " Working on: Fold=    2.0000, Sigma=    0.0000, Cost=75025.0000\n",
      " Working on: Fold=    2.0000, Sigma=    0.0000, Cost=100000.0000\n",
      " Working on: Fold=    2.0000, Sigma=    0.0003, Cost=  100.0000\n",
      " Working on: Fold=    2.0000, Sigma=    0.0003, Cost=25075.0000\n",
      " Working on: Fold=    2.0000, Sigma=    0.0003, Cost=50050.0000\n",
      " Working on: Fold=    2.0000, Sigma=    0.0003, Cost=75025.0000\n",
      " Working on: Fold=    2.0000, Sigma=    0.0003, Cost=100000.0000\n",
      " Working on: Fold=    2.0000, Sigma=    0.0100, Cost=  100.0000\n",
      " Working on: Fold=    2.0000, Sigma=    0.0100, Cost=25075.0000\n",
      " Working on: Fold=    2.0000, Sigma=    0.0100, Cost=50050.0000\n",
      " Working on: Fold=    2.0000, Sigma=    0.0100, Cost=75025.0000\n",
      " Working on: Fold=    2.0000, Sigma=    0.0100, Cost=100000.0000\n",
      " Working on: Fold=    2.0000, Sigma=    0.3162, Cost=  100.0000\n",
      " Working on: Fold=    2.0000, Sigma=    0.3162, Cost=25075.0000\n",
      " Working on: Fold=    2.0000, Sigma=    0.3162, Cost=50050.0000\n",
      " Working on: Fold=    2.0000, Sigma=    0.3162, Cost=75025.0000\n",
      " Working on: Fold=    2.0000, Sigma=    0.3162, Cost=100000.0000\n",
      " Working on: Fold=    2.0000, Sigma=   10.0000, Cost=  100.0000\n",
      " Working on: Fold=    2.0000, Sigma=   10.0000, Cost=25075.0000\n",
      " Working on: Fold=    2.0000, Sigma=   10.0000, Cost=50050.0000\n",
      " Working on: Fold=    2.0000, Sigma=   10.0000, Cost=75025.0000\n",
      " Working on: Fold=    2.0000, Sigma=   10.0000, Cost=100000.0000\n",
      " Working on: Fold=    3.0000, Sigma=    0.0000, Cost=  100.0000\n",
      " Working on: Fold=    3.0000, Sigma=    0.0000, Cost=25075.0000\n",
      " Working on: Fold=    3.0000, Sigma=    0.0000, Cost=50050.0000\n",
      " Working on: Fold=    3.0000, Sigma=    0.0000, Cost=75025.0000\n",
      " Working on: Fold=    3.0000, Sigma=    0.0000, Cost=100000.0000\n",
      " Working on: Fold=    3.0000, Sigma=    0.0003, Cost=  100.0000\n",
      " Working on: Fold=    3.0000, Sigma=    0.0003, Cost=25075.0000\n",
      " Working on: Fold=    3.0000, Sigma=    0.0003, Cost=50050.0000\n",
      " Working on: Fold=    3.0000, Sigma=    0.0003, Cost=75025.0000\n",
      " Working on: Fold=    3.0000, Sigma=    0.0003, Cost=100000.0000\n",
      " Working on: Fold=    3.0000, Sigma=    0.0100, Cost=  100.0000\n",
      " Working on: Fold=    3.0000, Sigma=    0.0100, Cost=25075.0000\n",
      " Working on: Fold=    3.0000, Sigma=    0.0100, Cost=50050.0000\n",
      " Working on: Fold=    3.0000, Sigma=    0.0100, Cost=75025.0000\n",
      " Working on: Fold=    3.0000, Sigma=    0.0100, Cost=100000.0000\n",
      " Working on: Fold=    3.0000, Sigma=    0.3162, Cost=  100.0000\n",
      " Working on: Fold=    3.0000, Sigma=    0.3162, Cost=25075.0000\n",
      " Working on: Fold=    3.0000, Sigma=    0.3162, Cost=50050.0000\n",
      " Working on: Fold=    3.0000, Sigma=    0.3162, Cost=75025.0000\n",
      " Working on: Fold=    3.0000, Sigma=    0.3162, Cost=100000.0000\n",
      " Working on: Fold=    3.0000, Sigma=   10.0000, Cost=  100.0000\n",
      " Working on: Fold=    3.0000, Sigma=   10.0000, Cost=25075.0000\n",
      " Working on: Fold=    3.0000, Sigma=   10.0000, Cost=50050.0000\n",
      " Working on: Fold=    3.0000, Sigma=   10.0000, Cost=75025.0000\n",
      " Working on: Fold=    3.0000, Sigma=   10.0000, Cost=100000.0000\n",
      " Working on: Fold=    4.0000, Sigma=    0.0000, Cost=  100.0000\n",
      " Working on: Fold=    4.0000, Sigma=    0.0000, Cost=25075.0000\n",
      " Working on: Fold=    4.0000, Sigma=    0.0000, Cost=50050.0000\n",
      " Working on: Fold=    4.0000, Sigma=    0.0000, Cost=75025.0000\n",
      " Working on: Fold=    4.0000, Sigma=    0.0000, Cost=100000.0000\n",
      " Working on: Fold=    4.0000, Sigma=    0.0003, Cost=  100.0000\n",
      " Working on: Fold=    4.0000, Sigma=    0.0003, Cost=25075.0000\n",
      " Working on: Fold=    4.0000, Sigma=    0.0003, Cost=50050.0000\n",
      " Working on: Fold=    4.0000, Sigma=    0.0003, Cost=75025.0000\n",
      " Working on: Fold=    4.0000, Sigma=    0.0003, Cost=100000.0000\n",
      " Working on: Fold=    4.0000, Sigma=    0.0100, Cost=  100.0000\n",
      " Working on: Fold=    4.0000, Sigma=    0.0100, Cost=25075.0000\n",
      " Working on: Fold=    4.0000, Sigma=    0.0100, Cost=50050.0000\n",
      " Working on: Fold=    4.0000, Sigma=    0.0100, Cost=75025.0000\n",
      " Working on: Fold=    4.0000, Sigma=    0.0100, Cost=100000.0000\n",
      " Working on: Fold=    4.0000, Sigma=    0.3162, Cost=  100.0000\n",
      " Working on: Fold=    4.0000, Sigma=    0.3162, Cost=25075.0000\n",
      " Working on: Fold=    4.0000, Sigma=    0.3162, Cost=50050.0000\n",
      " Working on: Fold=    4.0000, Sigma=    0.3162, Cost=75025.0000\n",
      " Working on: Fold=    4.0000, Sigma=    0.3162, Cost=100000.0000\n",
      " Working on: Fold=    4.0000, Sigma=   10.0000, Cost=  100.0000\n",
      " Working on: Fold=    4.0000, Sigma=   10.0000, Cost=25075.0000\n",
      " Working on: Fold=    4.0000, Sigma=   10.0000, Cost=50050.0000\n",
      " Working on: Fold=    4.0000, Sigma=   10.0000, Cost=75025.0000\n",
      " Working on: Fold=    4.0000, Sigma=   10.0000, Cost=100000.0000\n"
     ]
    }
   ],
   "source": [
    "#\n",
    "# 5-fold cross-validation to define parameters\n",
    "#\n",
    "cvape=np.zeros((nsigma,ncost,nfold))\n",
    "for i in range(nfold):\n",
    "    for j in range(nsigma):\n",
    "        for k in range(ncost):\n",
    "            print (\" Working on: Fold=%10.4f, Sigma=%10.4f, Cost=%10.4f\" % (i,cvsigma[j],cvcost[k]) )\n",
    "            X_train, X_test, y_train, y_test = cross_validation.train_test_split( stn_X, y, test_size=test_frac, random_state=i+77 )\n",
    "            svr_rbf=SVR(kernel='rbf', C=cvcost[k], gamma=cvsigma[j])\n",
    "            y_pred=svr_rbf.fit(X_train, y_train).predict(X_test)\n",
    "            cvape[i,j,k] = np.mean ( np.abs((y_test - y_pred)/y_test) )"
   ]
  },
  {
   "cell_type": "code",
   "execution_count": 9,
   "metadata": {
    "collapsed": false
   },
   "outputs": [],
   "source": [
    "#\n",
    "# Mean absolute percentage error\n",
    "#\n",
    "cvmape=np.mean(cvape,axis=1)"
   ]
  },
  {
   "cell_type": "code",
   "execution_count": 10,
   "metadata": {
    "collapsed": false
   },
   "outputs": [],
   "source": [
    "#\n",
    "# Get indexes of parameter combination with minimum error\n",
    "#\n",
    "idxsigma, idxcost = np.unravel_index(cvmape.argmin(), cvmape.shape)"
   ]
  },
  {
   "cell_type": "code",
   "execution_count": 11,
   "metadata": {
    "collapsed": false
   },
   "outputs": [
    {
     "name": "stdout",
     "output_type": "stream",
     "text": [
      "Best parameters: \n",
      "  Sigma =     0.3162\n",
      "  Cost = 100000.0000\n",
      "  Relative Accuracy =     0.3258\n"
     ]
    }
   ],
   "source": [
    "#\n",
    "# Print out Results\n",
    "#\n",
    "print(\"Best parameters: \\n  Sigma = %10.4f\\n  Cost = %10.4f\\n  Relative Accuracy = %10.4f\" % (cvsigma[idxsigma],cvcost[idxcost],cvmape[idxsigma,idxcost]))"
   ]
  },
  {
   "cell_type": "code",
   "execution_count": 28,
   "metadata": {
    "collapsed": false
   },
   "outputs": [
    {
     "name": "stderr",
     "output_type": "stream",
     "text": [
      "C:\\Anaconda3\\lib\\site-packages\\matplotlib\\figure.py:387: UserWarning: matplotlib is currently using a non-GUI backend, so cannot show the figure\n",
      "  \"matplotlib is currently using a non-GUI backend, \"\n"
     ]
    },
    {
     "data": {
      "image/png": "[encoded data removed]",
      "text/plain": [
       "<matplotlib.figure.Figure at 0x52c0c367b8>"
      ]
     },
     "metadata": {},
     "output_type": "display_data"
    }
   ],
   "source": [
    "#\n",
    "# Plot results for all combinations tested\n",
    "#\n",
    "matplotlib.rcParams.update({'font.size': 14})\n",
    "fig, ax = plt.subplots(1,figsize=(8,8))\n",
    "ax.imshow(cvmape,interpolation='nearest')\n",
    "for i in range(nsigma):\n",
    "    for j in range(ncost):\n",
    "        ax.text(i,j,(\"%.4f\" % cvmape[j,i]), va='center', ha='center')\n",
    "        \n",
    "\n",
    "fig.suptitle('Average Absolute Percentual Error', fontsize=20)\n",
    "plt.xlabel('Cost')\n",
    "plt.ylabel('Sigma')\n",
    "\n",
    "plt.xticks(range(ncost),cvcost)\n",
    "plt.yticks(range(nsigma),cvsigma)\n",
    "\n",
    "fig.show()"
   ]
  },
  {
   "cell_type": "code",
   "execution_count": null,
   "metadata": {
    "collapsed": true
   },
   "outputs": [],
   "source": []
  }
 ],
 "metadata": {
  "kernelspec": {
   "display_name": "Python 3",
   "language": "python",
   "name": "python3"
  },
  "language_info": {
   "codemirror_mode": {
    "name": "ipython",
    "version": 3
   },
   "file_extension": ".py",
   "mimetype": "text/x-python",
   "name": "python",
   "nbconvert_exporter": "python",
   "pygments_lexer": "ipython3",
   "version": "3.5.0"
  }
 },
 "nbformat": 4,
 "nbformat_minor": 0
}
